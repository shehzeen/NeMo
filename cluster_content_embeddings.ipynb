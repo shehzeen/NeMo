{
 "cells": [
  {
   "cell_type": "code",
   "execution_count": 2,
   "id": "024325d2",
   "metadata": {},
   "outputs": [],
   "source": [
    "import numpy as np\n",
    "from sklearn.cluster import KMeans\n",
    "import os\n",
    "import re\n",
    "import torch\n",
    "\n",
    "# /data/shehzeen/SSLTTS/SupDataDirs/NewSpecPreprocessing/EnglishSpanishBengCelebEpoch39"
   ]
  },
  {
   "cell_type": "code",
   "execution_count": 15,
   "id": "fc7e6904",
   "metadata": {},
   "outputs": [
    {
     "name": "stdout",
     "output_type": "stream",
     "text": [
      "torch.Size([76, 256])\n"
     ]
    }
   ],
   "source": [
    "# set the directory path containing the embedding files\n",
    "# content_embedding_path = \"/data/shehzeen/SSLTTS/SupDataDirs/NewSpecPreprocessing/EnglishSpanishBengCelebEpoch39/\"\n",
    "content_embedding_path = \"/data/shehzeen/SSLTTS/SupDataDirs/NewSpecPreprocessing/Libri360NoAugConformer\"\n",
    "\n",
    "# compile a regular expression pattern to match the desired file names\n",
    "pattern = 'embedding_content_embedding'\n",
    "# pattern = re.compile('embedding_content_embedding')\n",
    "\n",
    "embedding_files=[]\n",
    "counter = 0\n",
    "\n",
    "for f in os.listdir(content_embedding_path):\n",
    "    if (f.startswith(pattern) and counter<1000):\n",
    "        embedding_files.append(str(f))\n",
    "        counter +=1\n",
    "        \n",
    "# print(embedding_files)\n",
    "\n",
    "# get a list of file names in the directory that match the pattern\n",
    "# embedding_files = [f for f in os.listdir(content_embedding_path) if f.startswith(pattern)]\n",
    "\n",
    "# initialize an empty list to store the embeddings\n",
    "embeddings = []\n",
    "\n",
    "# loop over each file and load its contents into the embeddings list\n",
    "for file in embedding_files:\n",
    "    embedding = torch.load(os.path.join(content_embedding_path, file))\n",
    "    embeddings.append(embedding.T)\n",
    "    \n",
    "print(embeddings[0].shape)\n"
   ]
  },
  {
   "cell_type": "code",
   "execution_count": 22,
   "id": "2095bd36",
   "metadata": {},
   "outputs": [
    {
     "name": "stdout",
     "output_type": "stream",
     "text": [
      "2 tensor(0.9276)\n",
      "7 tensor(0.9660)\n",
      "10 tensor(0.9006)\n",
      "14 tensor(0.9804)\n",
      "16 tensor(0.9097)\n",
      "19 tensor(0.9334)\n",
      "20 tensor(0.9343)\n",
      "23 tensor(0.9156)\n",
      "24 tensor(0.9037)\n",
      "31 tensor(0.9047)\n",
      "32 tensor(0.9057)\n",
      "34 tensor(0.9928)\n",
      "36 tensor(0.9230)\n",
      "45 tensor(0.9519)\n",
      "46 tensor(0.9319)\n",
      "53 tensor(0.9918)\n",
      "55 tensor(0.9454)\n",
      "56 tensor(0.9123)\n",
      "62 tensor(0.9908)\n",
      "64 tensor(0.9127)\n",
      "78 tensor(0.9687)\n",
      "89 tensor(0.9376)\n",
      "91 tensor(0.9201)\n",
      "93 tensor(0.9560)\n",
      "100 tensor(0.9215)\n",
      "101 tensor(0.9508)\n",
      "102 tensor(0.9549)\n",
      "113 tensor(0.9592)\n",
      "115 tensor(0.9842)\n",
      "116 tensor(0.9896)\n",
      "118 tensor(0.9234)\n",
      "119 tensor(0.9907)\n",
      "120 tensor(0.9969)\n",
      "121 tensor(0.9979)\n",
      "122 tensor(0.9964)\n",
      "123 tensor(0.9978)\n",
      "124 tensor(0.9915)\n",
      "129 tensor(0.9938)\n",
      "131 tensor(0.9204)\n",
      "133 tensor(0.9937)\n",
      "135 tensor(0.9364)\n",
      "140 tensor(0.9126)\n",
      "152 tensor(0.9217)\n",
      "153 tensor(0.9376)\n",
      "159 tensor(0.9031)\n",
      "165 tensor(0.9287)\n",
      "168 tensor(0.9339)\n",
      "172 tensor(0.9335)\n",
      "175 tensor(0.9624)\n",
      "176 tensor(0.9154)\n",
      "186 tensor(0.9162)\n",
      "187 tensor(0.9322)\n",
      "190 tensor(0.9065)\n",
      "192 tensor(0.9937)\n",
      "200 tensor(0.9533)\n",
      "202 tensor(0.9924)\n",
      "208 tensor(0.9540)\n",
      "209 tensor(0.9885)\n",
      "210 tensor(0.9975)\n",
      "211 tensor(0.9967)\n",
      "212 tensor(0.9968)\n",
      "213 tensor(0.9971)\n",
      "214 tensor(0.9864)\n",
      "219 tensor(0.9914)\n",
      "225 tensor(0.9628)\n",
      "228 tensor(0.9411)\n",
      "238 tensor(0.9288)\n",
      "240 tensor(0.9945)\n",
      "245 tensor(0.9946)\n",
      "246 tensor(0.9945)\n",
      "253 tensor(0.9288)\n",
      "262 tensor(0.9625)\n",
      "273 tensor(0.9399)\n",
      "275 tensor(0.9945)\n",
      "280 tensor(0.9332)\n",
      "281 tensor(0.9317)\n",
      "290 tensor(0.9403)\n",
      "307 tensor(0.9506)\n",
      "309 tensor(0.9946)\n",
      "314 tensor(0.9799)\n",
      "319 tensor(0.9434)\n",
      "321 tensor(0.9836)\n",
      "323 tensor(0.9321)\n",
      "83 329\n"
     ]
    }
   ],
   "source": [
    "audio_idx = 2\n",
    "threshold = 0.90\n",
    "count = 0\n",
    "for t in range(embeddings[audio_idx].shape[0]-1):\n",
    "    e1 = embeddings[audio_idx][t]\n",
    "    e2 = embeddings[audio_idx][t+1]\n",
    "    cosine_similarity = torch.nn.functional.cosine_similarity(e1, e2, dim=0)\n",
    "    if cosine_similarity > threshold:\n",
    "        count += 1\n",
    "        print(t, cosine_similarity)\n",
    "print(count, embeddings[audio_idx].shape[0])"
   ]
  },
  {
   "cell_type": "code",
   "execution_count": 5,
   "id": "161a90e1",
   "metadata": {},
   "outputs": [
    {
     "name": "stdout",
     "output_type": "stream",
     "text": [
      "tensor([  2.2581,  -5.1272,  -1.5826,  12.3147,  -3.1712,   5.3697,   1.6485,\n",
      "         -4.3229,  -5.2805,  -0.6219,  -4.3460,   8.3931,   9.4221,  -8.1140,\n",
      "          2.0696,   4.6084, -10.2013,   2.1427,   2.3221,   0.1113,  -1.5858,\n",
      "          0.1592,   0.5576,  -3.6168,  -2.9767,  -5.1975,  -1.1687,   3.2070,\n",
      "          4.4462,   3.8627,  -5.3357,  -6.3310,   0.3668,  -4.1627,   8.8488,\n",
      "          1.9904,  -3.1655,  -6.2543,   1.7828,  -0.1857,   7.7641,  -1.7653,\n",
      "         -8.5141,   0.9696,   5.0197,  -0.5331,  -4.4071,   5.3595,  -6.6497,\n",
      "          5.2379,  -2.6188,  -0.1626,   0.5320,   2.1617,  13.6381,  -0.2054,\n",
      "         -1.1268,  -3.0462,   1.7541,   4.5294,   0.3193,   1.4864,   1.0844,\n",
      "          0.7326,   0.9654,   4.0682,  -4.1685,  -6.2643,  -8.6641,  -7.2166,\n",
      "          0.4104,  -2.9796,  -6.4679,  -8.0960,   2.9592,   0.2558,  -1.1404,\n",
      "          6.7417,   0.5412,  -8.2616,  -0.9342,   5.7044,  -2.6838,  -3.7260,\n",
      "         -2.0171,  -4.3250,  -5.9776,  -0.4674,  -7.9870,  -0.8141,  -0.8949,\n",
      "          1.9333,   2.1391,   4.3651,  -1.3427,   0.9321,   8.5602,  -8.6249,\n",
      "          6.3212,  -4.4635,   0.2841,  -0.2546,   2.9359,  -5.2275,  -5.5448,\n",
      "          1.8650,   0.7628,  -3.7342,  -5.0788,  -4.0730,   1.6288,  -0.1378,\n",
      "          7.4160,  -4.1940,  -5.6923,  -3.4640,  -1.5675,  -4.7571,  -6.3299,\n",
      "         -1.0682,   3.2374,   0.7310,   2.5096,  -0.2209,  -0.6290,   3.2655,\n",
      "         -3.3761,   5.7358,   3.2352,  -1.9301,   3.0220,  -7.5615,  -2.6148,\n",
      "         -2.8009,   4.4003,  -3.2246,  10.2623,  -3.8482,  -3.4410,   3.2285,\n",
      "          4.8793,   8.5635,   9.1534,  -6.9468,   1.5066,   2.8263,   1.9991,\n",
      "         -0.0622,  -6.2066,  -5.1482,  -0.0971,   5.7657,  -0.6520,   1.0399,\n",
      "          2.0366,  -5.5084,   0.1155,  -6.5077,   0.5155,   2.9730,  -2.8983,\n",
      "         -2.1008,  -0.2776,   3.9699,   7.9257,   6.3975,   1.6658,   0.1168,\n",
      "          6.8283,  -1.2770,   1.8040,   0.7113,  -3.2953,  -2.6941,  -4.8424,\n",
      "         -1.2366,  -1.4353,   1.4831,  -4.5338,   5.6956,  -5.4501,   2.6405,\n",
      "         -9.5352,  -4.9306,  -0.2247,  -4.4561,   0.2898,  -1.2181,   0.2733,\n",
      "          2.3231,  -3.6607,   5.0732,  -0.9618,  -4.7824,  -3.2576,   4.5832,\n",
      "         -4.5939,   5.8149,  -0.2590,  -3.2436,  -1.0846,  -3.8320,  -3.7255,\n",
      "        -11.7169,   6.3013,  11.1338,   0.6384,  -4.4108,  -2.1111,  -0.2386,\n",
      "          3.9219,  -2.8730,  -5.6284,   0.2416,   5.2798,  -2.9124,  -2.3593,\n",
      "         -2.0639,  -1.3071,  -4.4995,   5.3335, -12.0401,   6.4411,  -5.3837,\n",
      "          4.4903,  -1.0907,   2.5801,   9.6997,  -5.6336,  -3.0752,   2.3123,\n",
      "          0.8720,   5.0030,   5.0756,  -1.7540,   4.6662,   1.6151,   3.1364,\n",
      "          1.3107,  -2.4711,   5.8046,   3.0399,  -0.9919,   4.0138,  -0.8535,\n",
      "         -1.7318,  -8.1946,   4.5480,   1.0406,  -8.5160,   1.9022,   1.9351,\n",
      "         -1.0494,  -0.2967,  -3.0687,   2.3104])\n",
      "112327\n"
     ]
    }
   ],
   "source": [
    "# concatenate the tensors along the first dimension (resulting tensor size: (6, 3))\n",
    "\n",
    "concatenated_tensor = torch.cat(embeddings, dim=0)\n",
    "\n",
    "# print the concatenated tensor\n",
    "print(concatenated_tensor[0])\n",
    "print(len(concatenated_tensor))"
   ]
  },
  {
   "cell_type": "code",
   "execution_count": 7,
   "id": "932f22ab",
   "metadata": {},
   "outputs": [
    {
     "name": "stderr",
     "output_type": "stream",
     "text": [
      "/home/shehzeen/miniconda3/envs/py38nemo/lib/python3.8/site-packages/sklearn/cluster/_kmeans.py:870: FutureWarning: The default value of `n_init` will change from 10 to 'auto' in 1.4. Set the value of `n_init` explicitly to suppress the warning\n",
      "  warnings.warn(\n"
     ]
    }
   ],
   "source": [
    "\n",
    "\n",
    "# convert the embeddings to a numpy array\n",
    "embeddings_array = concatenated_tensor[:50000].numpy()\n",
    "\n",
    "# set number of clusters for k-means\n",
    "num_clusters = 100\n",
    "\n",
    "# initialize k-means algorithm with number of clusters and random initialization\n",
    "kmeans = KMeans(n_clusters=num_clusters, init='random')\n",
    "\n",
    "# fit k-means to embeddings\n",
    "kmeans.fit(embeddings_array)\n",
    "\n",
    "# get cluster labels for each embedding\n",
    "cluster_labels = kmeans.labels_\n",
    "\n",
    "# print the cluster labels\n",
    "# print(cluster_labels)"
   ]
  },
  {
   "cell_type": "code",
   "execution_count": 9,
   "id": "3817bae1",
   "metadata": {},
   "outputs": [
    {
     "data": {
      "image/png": "[encoded data removed]",
      "text/plain": [
       "<Figure size 640x480 with 1 Axes>"
      ]
     },
     "metadata": {},
     "output_type": "display_data"
    }
   ],
   "source": [
    "from sklearn.manifold import TSNE\n",
    "import matplotlib.pyplot as plt\n",
    "import numpy as np\n",
    "\n",
    "# load the embeddings from file\n",
    "# embeddings_array = concatenated_tensor[:10000].numpy()\n",
    "\n",
    "# compute the t-SNE embeddings\n",
    "tsne_embeddings = TSNE(n_components=2).fit_transform(embeddings_array)\n",
    "\n",
    "# plot the t-SNE embeddings\n",
    "plt.scatter(tsne_embeddings[:, 0], tsne_embeddings[:, 1])\n",
    "plt.show()"
   ]
  },
  {
   "cell_type": "code",
   "execution_count": null,
   "id": "6cd6ee9e",
   "metadata": {},
   "outputs": [],
   "source": []
  }
 ],
 "metadata": {
  "kernelspec": {
   "display_name": "py38nemo",
   "language": "python",
   "name": "py38nemo"
  },
  "language_info": {
   "codemirror_mode": {
    "name": "ipython",
    "version": 3
   },
   "file_extension": ".py",
   "mimetype": "text/x-python",
   "name": "python",
   "nbconvert_exporter": "python",
   "pygments_lexer": "ipython3",
   "version": "3.8.0"
  }
 },
 "nbformat": 4,
 "nbformat_minor": 5
}
