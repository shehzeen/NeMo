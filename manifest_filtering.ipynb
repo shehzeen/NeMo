{
 "cells": [
  {
   "cell_type": "code",
   "execution_count": 10,
   "id": "31ccf146",
   "metadata": {},
   "outputs": [
    {
     "name": "stderr",
     "output_type": "stream",
     "text": [
      "IOPub data rate exceeded.\n",
      "The notebook server will temporarily stop sending output\n",
      "to the client in order to avoid crashing it.\n",
      "To change this limit, set the config variable\n",
      "`--NotebookApp.iopub_data_rate_limit`.\n",
      "\n",
      "Current values:\n",
      "NotebookApp.iopub_data_rate_limit=1000000.0 (bytes/sec)\n",
      "NotebookApp.rate_limit_window=3.0 (secs)\n",
      "\n"
     ]
    }
   ],
   "source": [
    "import json\n",
    "\n",
    "def filter_and_print_json_lines(input_file, filter_field, filter_string):\n",
    "    data = []\n",
    "    with open(input_file, 'r') as f:\n",
    "        for line in f:\n",
    "            data.append(json.loads(line))\n",
    "            \n",
    "    filtered_data = []\n",
    "    count = 0\n",
    "\n",
    "    for entry in data:\n",
    "        if filter_string.lower() in str(entry.get(filter_field, '')).lower():\n",
    "#             print(entry)\n",
    "        # Check if the entry has all the required filter fields and they match the filter string\n",
    "#         if all(entry.get(field, '').lower() == filter_string.lower() for field in filter_fields):\n",
    "            filtered_data.append(entry)\n",
    "#             count += 1\n",
    "\n",
    "#             if count >= 1000:\n",
    "#                 break\n",
    "\n",
    "    for entry in filtered_data:\n",
    "        print(json.dumps(entry, indent=2))\n",
    "        \n",
    "    with open(output_file, 'w') as f:\n",
    "        for entry in filtered_data:\n",
    "            f.write(json.dumps(entry) + '\\n')\n",
    "\n",
    "#     print(f\"{count} lines filtered and printed and saved to {output_file}.\")\n",
    "\n",
    "# Example usage:\n",
    "input_file = '/Data/LibriTTS/train_clean_100_normalized_speechlm_alltasks.json'\n",
    "output_file = '/Data/LibriTTS/train_clean_100_normalized_speechlm_ttstask.json'\n",
    "filter_field = 'question'\n",
    "# filter_fields = ['context_type', 'answer_type', 'question_type']  # Replace with the fields you want to filter on\n",
    "filter_string = 'Text to speech this'  # Replace with the string you want to match in the filter fields\n",
    "filter_and_print_json_lines(input_file, filter_field, filter_string)"
   ]
  },
  {
   "cell_type": "code",
   "execution_count": null,
   "id": "87d29268",
   "metadata": {},
   "outputs": [],
   "source": []
  }
 ],
 "metadata": {
  "kernelspec": {
   "display_name": "Python 3 (ipykernel)",
   "language": "python",
   "name": "python3"
  },
  "language_info": {
   "codemirror_mode": {
    "name": "ipython",
    "version": 3
   },
   "file_extension": ".py",
   "mimetype": "text/x-python",
   "name": "python",
   "nbconvert_exporter": "python",
   "pygments_lexer": "ipython3",
   "version": "3.8.10"
  }
 },
 "nbformat": 4,
 "nbformat_minor": 5
}
