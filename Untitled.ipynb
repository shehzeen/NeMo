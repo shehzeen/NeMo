{
 "cells": [
  {
   "cell_type": "code",
   "execution_count": 47,
   "id": "80844ead",
   "metadata": {},
   "outputs": [],
   "source": [
    "from nemo.collections.tts.torch import data"
   ]
  },
  {
   "cell_type": "code",
   "execution_count": 51,
   "id": "83d90602",
   "metadata": {},
   "outputs": [
    {
     "name": "stdout",
     "output_type": "stream",
     "text": [
      "[NeMo I 2023-05-06 15:18:06 data:1179] Loading dataset from /data/shehzeen/SSLTTS/manifests/dev_clean_360_corrected.json.\n"
     ]
    },
    {
     "name": "stderr",
     "output_type": "stream",
     "text": [
      "200it [00:00, 206412.60it/s]"
     ]
    },
    {
     "name": "stdout",
     "output_type": "stream",
     "text": [
      "[NeMo I 2023-05-06 15:18:06 data:1202] Loaded dataset with 200 files.\n",
      "[NeMo I 2023-05-06 15:18:06 data:1204] Dataset contains 0.33 hours.\n",
      "[NeMo I 2023-05-06 15:18:06 data:372] Pruned 0 files. Final dataset contains 200 files\n",
      "[NeMo I 2023-05-06 15:18:06 data:374] Pruned 0.00 hours. Final dataset contains 0.33 hours.\n",
      "computing mean speaker embeddings...\n",
      "processed 0 200 files\n",
      "adding speaker 0 177 /data/shehzeen/SSLTTS/SupDataDirs/NewSpecPreprocessing/Libri360NoAugConformer/speaker_embedding_2204_131732_2204_131732_000007_000003.pt\n",
      "adding speaker 1 591 /data/shehzeen/SSLTTS/SupDataDirs/NewSpecPreprocessing/Libri360NoAugConformer/speaker_embedding_6258_49755_6258_49755_000029_000011.pt\n",
      "adding speaker 2 616 /data/shehzeen/SSLTTS/SupDataDirs/NewSpecPreprocessing/Libri360NoAugConformer/speaker_embedding_6458_61323_6458_61323_000080_000000.pt\n",
      "adding speaker 3 660 /data/shehzeen/SSLTTS/SupDataDirs/NewSpecPreprocessing/Libri360NoAugConformer/speaker_embedding_6927_86045_6927_86045_000024_000002.pt\n",
      "adding speaker 4 243 /data/shehzeen/SSLTTS/SupDataDirs/NewSpecPreprocessing/Libri360NoAugConformer/speaker_embedding_2775_134792_2775_134792_000015_000011.pt\n",
      "adding speaker 5 870 /data/shehzeen/SSLTTS/SupDataDirs/NewSpecPreprocessing/Libri360NoAugConformer/speaker_embedding_8758_296465_8758_296465_000026_000000.pt\n",
      "adding speaker 6 313 /data/shehzeen/SSLTTS/SupDataDirs/NewSpecPreprocessing/Libri360NoAugConformer/speaker_embedding_3446_144019_3446_144019_000021_000006.pt\n",
      "adding speaker 7 386 /data/shehzeen/SSLTTS/SupDataDirs/NewSpecPreprocessing/Libri360NoAugConformer/speaker_embedding_4116_3582_4116_3582_000038_000000.pt\n",
      "adding speaker 8 110 /data/shehzeen/SSLTTS/SupDataDirs/NewSpecPreprocessing/Libri360NoAugConformer/speaker_embedding_175_129587_175_129587_000008_000000.pt\n",
      "adding speaker 9 754 /data/shehzeen/SSLTTS/SupDataDirs/NewSpecPreprocessing/Libri360NoAugConformer/speaker_embedding_7754_105383_7754_105383_000050_000000.pt\n",
      "adding speaker 10 666 /data/shehzeen/SSLTTS/SupDataDirs/NewSpecPreprocessing/Libri360NoAugConformer/speaker_embedding_699_132882_699_132882_000020_000006.pt\n",
      "adding speaker 11 283 /data/shehzeen/SSLTTS/SupDataDirs/NewSpecPreprocessing/Libri360NoAugConformer/speaker_embedding_318_124224_318_124224_000075_000000.pt\n",
      "adding speaker 12 215 /data/shehzeen/SSLTTS/SupDataDirs/NewSpecPreprocessing/Libri360NoAugConformer/speaker_embedding_2532_163402_2532_163402_000001_000001.pt\n",
      "adding speaker 13 597 /data/shehzeen/SSLTTS/SupDataDirs/NewSpecPreprocessing/Libri360NoAugConformer/speaker_embedding_6308_68359_6308_68359_000007_000000.pt\n",
      "adding speaker 14 155 /data/shehzeen/SSLTTS/SupDataDirs/NewSpecPreprocessing/Libri360NoAugConformer/speaker_embedding_2061_147110_2061_147110_000017_000000.pt\n",
      "adding speaker 15 698 /data/shehzeen/SSLTTS/SupDataDirs/NewSpecPreprocessing/Libri360NoAugConformer/speaker_embedding_7247_101864_7247_101864_000028_000002.pt\n",
      "adding speaker 16 55 /data/shehzeen/SSLTTS/SupDataDirs/NewSpecPreprocessing/Libri360NoAugConformer/speaker_embedding_1348_135826_1348_135826_000005_000004.pt\n",
      "adding speaker 17 322 /data/shehzeen/SSLTTS/SupDataDirs/NewSpecPreprocessing/Libri360NoAugConformer/speaker_embedding_353_128309_353_128309_000064_000003.pt\n",
      "adding speaker 18 534 /data/shehzeen/SSLTTS/SupDataDirs/NewSpecPreprocessing/Libri360NoAugConformer/speaker_embedding_5740_39910_5740_39910_000004_000003.pt\n",
      "adding speaker 19 813 /data/shehzeen/SSLTTS/SupDataDirs/NewSpecPreprocessing/Libri360NoAugConformer/speaker_embedding_816_2301_816_2301_000016_000000.pt\n",
      "adding speaker 20 702 /data/shehzeen/SSLTTS/SupDataDirs/NewSpecPreprocessing/Libri360NoAugConformer/speaker_embedding_7286_92935_7286_92935_000027_000000.pt\n",
      "adding speaker 21 223 /data/shehzeen/SSLTTS/SupDataDirs/NewSpecPreprocessing/Libri360NoAugConformer/speaker_embedding_2589_22574_2589_22574_000045_000000.pt\n",
      "adding speaker 22 611 /data/shehzeen/SSLTTS/SupDataDirs/NewSpecPreprocessing/Libri360NoAugConformer/speaker_embedding_6395_86708_6395_86708_000060_000000.pt\n",
      "adding speaker 23 646 /data/shehzeen/SSLTTS/SupDataDirs/NewSpecPreprocessing/Libri360NoAugConformer/speaker_embedding_6696_73296_6696_73296_000046_000001.pt\n",
      "adding speaker 24 879 /data/shehzeen/SSLTTS/SupDataDirs/NewSpecPreprocessing/Libri360NoAugConformer/speaker_embedding_8825_292252_8825_292252_000029_000000.pt\n",
      "adding speaker 25 328 /data/shehzeen/SSLTTS/SupDataDirs/NewSpecPreprocessing/Libri360NoAugConformer/speaker_embedding_3584_74477_3584_74477_000011_000000.pt\n",
      "adding speaker 26 6 /data/shehzeen/SSLTTS/SupDataDirs/NewSpecPreprocessing/Libri360NoAugConformer/speaker_embedding_1027_125147_1027_125147_000143_000001.pt\n",
      "adding speaker 27 680 /data/shehzeen/SSLTTS/SupDataDirs/NewSpecPreprocessing/Libri360NoAugConformer/speaker_embedding_711_187466_711_187466_000009_000002.pt\n",
      "adding speaker 28 819 /data/shehzeen/SSLTTS/SupDataDirs/NewSpecPreprocessing/Libri360NoAugConformer/speaker_embedding_8194_89390_8194_89390_000010_000000.pt\n",
      "adding speaker 29 111 /data/shehzeen/SSLTTS/SupDataDirs/NewSpecPreprocessing/Libri360NoAugConformer/speaker_embedding_1752_16632_1752_16632_000088_000002.pt\n",
      "adding speaker 30 491 /data/shehzeen/SSLTTS/SupDataDirs/NewSpecPreprocessing/Libri360NoAugConformer/speaker_embedding_5290_39475_5290_39475_000010_000000.pt\n",
      "adding speaker 31 285 /data/shehzeen/SSLTTS/SupDataDirs/NewSpecPreprocessing/Libri360NoAugConformer/speaker_embedding_3185_163507_3185_163507_000044_000000.pt\n",
      "adding speaker 32 200 /data/shehzeen/SSLTTS/SupDataDirs/NewSpecPreprocessing/Libri360NoAugConformer/speaker_embedding_2401_144485_2401_144485_000071_000003.pt\n",
      "adding speaker 33 806 /data/shehzeen/SSLTTS/SupDataDirs/NewSpecPreprocessing/Libri360NoAugConformer/speaker_embedding_8113_301693_8113_301693_000021_000001.pt\n",
      "adding speaker 34 713 /data/shehzeen/SSLTTS/SupDataDirs/NewSpecPreprocessing/Libri360NoAugConformer/speaker_embedding_7383_95441_7383_95441_000030_000000.pt\n",
      "adding speaker 35 70 /data/shehzeen/SSLTTS/SupDataDirs/NewSpecPreprocessing/Libri360NoAugConformer/speaker_embedding_1445_139397_1445_139397_000018_000001.pt\n",
      "adding speaker 36 691 /data/shehzeen/SSLTTS/SupDataDirs/NewSpecPreprocessing/Libri360NoAugConformer/speaker_embedding_718_129594_718_129594_000019_000001.pt\n",
      "adding speaker 37 455 /data/shehzeen/SSLTTS/SupDataDirs/NewSpecPreprocessing/Libri360NoAugConformer/speaker_embedding_4957_36386_4957_36386_000023_000000.pt\n",
      "adding speaker 38 34 /data/shehzeen/SSLTTS/SupDataDirs/NewSpecPreprocessing/Libri360NoAugConformer/speaker_embedding_1224_121064_1224_121064_000070_000000.pt\n",
      "adding speaker 39 99 /data/shehzeen/SSLTTS/SupDataDirs/NewSpecPreprocessing/Libri360NoAugConformer/speaker_embedding_1649_150127_1649_150127_000033_000001.pt\n",
      "adding speaker 40 39 /data/shehzeen/SSLTTS/SupDataDirs/NewSpecPreprocessing/Libri360NoAugConformer/speaker_embedding_1264_129805_1264_129805_000022_000007.pt\n",
      "adding speaker 41 529 /data/shehzeen/SSLTTS/SupDataDirs/NewSpecPreprocessing/Libri360NoAugConformer/speaker_embedding_5717_94876_5717_94876_000012_000000.pt\n",
      "adding speaker 42 382 /data/shehzeen/SSLTTS/SupDataDirs/NewSpecPreprocessing/Libri360NoAugConformer/speaker_embedding_4098_11547_4098_11547_000020_000008.pt\n",
      "adding speaker 43 169 /data/shehzeen/SSLTTS/SupDataDirs/NewSpecPreprocessing/Libri360NoAugConformer/speaker_embedding_2156_17942_2156_17942_000015_000004.pt\n",
      "adding speaker 44 836 /data/shehzeen/SSLTTS/SupDataDirs/NewSpecPreprocessing/Libri360NoAugConformer/speaker_embedding_8404_282926_8404_282926_000091_000000.pt\n",
      "adding speaker 45 832 /data/shehzeen/SSLTTS/SupDataDirs/NewSpecPreprocessing/Libri360NoAugConformer/speaker_embedding_836_130900_836_130900_000055_000001.pt\n",
      "adding speaker 46 738 /data/shehzeen/SSLTTS/SupDataDirs/NewSpecPreprocessing/Libri360NoAugConformer/speaker_embedding_7594_81881_7594_81881_000014_000000.pt\n",
      "adding speaker 47 408 /data/shehzeen/SSLTTS/SupDataDirs/NewSpecPreprocessing/Libri360NoAugConformer/speaker_embedding_4363_14936_4363_14936_000019_000006.pt\n",
      "adding speaker 48 761 /data/shehzeen/SSLTTS/SupDataDirs/NewSpecPreprocessing/Libri360NoAugConformer/speaker_embedding_781_127518_781_127518_000064_000004.pt\n",
      "adding speaker 49 42 /data/shehzeen/SSLTTS/SupDataDirs/NewSpecPreprocessing/Libri360NoAugConformer/speaker_embedding_1283_129808_1283_129808_000011_000001.pt\n",
      "adding speaker 50 689 /data/shehzeen/SSLTTS/SupDataDirs/NewSpecPreprocessing/Libri360NoAugConformer/speaker_embedding_716_129583_716_129583_000017_000003.pt\n",
      "adding speaker 51 891 /data/shehzeen/SSLTTS/SupDataDirs/NewSpecPreprocessing/Libri360NoAugConformer/speaker_embedding_922_132300_922_132300_000025_000001.pt\n",
      "adding speaker 52 304 /data/shehzeen/SSLTTS/SupDataDirs/NewSpecPreprocessing/Libri360NoAugConformer/speaker_embedding_3361_130131_3361_130131_000016_000001.pt\n",
      "adding speaker 53 5 /data/shehzeen/SSLTTS/SupDataDirs/NewSpecPreprocessing/Libri360NoAugConformer/speaker_embedding_1025_92814_1025_92814_000020_000004.pt\n",
      "adding speaker 54 500 /data/shehzeen/SSLTTS/SupDataDirs/NewSpecPreprocessing/Libri360NoAugConformer/speaker_embedding_54_121079_54_121079_000091_000000.pt\n",
      "adding speaker 55 454 /data/shehzeen/SSLTTS/SupDataDirs/NewSpecPreprocessing/Libri360NoAugConformer/speaker_embedding_4945_29090_4945_29090_000017_000001.pt\n",
      "adding speaker 56 338 /data/shehzeen/SSLTTS/SupDataDirs/NewSpecPreprocessing/Libri360NoAugConformer/speaker_embedding_3703_71531_3703_71531_000040_000000.pt\n",
      "adding speaker 57 499 /data/shehzeen/SSLTTS/SupDataDirs/NewSpecPreprocessing/Libri360NoAugConformer/speaker_embedding_5389_4861_5389_4861_000051_000003.pt\n",
      "adding speaker 58 370 /data/shehzeen/SSLTTS/SupDataDirs/NewSpecPreprocessing/Libri360NoAugConformer/speaker_embedding_3989_182394_3989_182394_000020_000001.pt\n",
      "adding speaker 59 233 /data/shehzeen/SSLTTS/SupDataDirs/NewSpecPreprocessing/Libri360NoAugConformer/speaker_embedding_2688_144987_2688_144987_000094_000000.pt\n",
      "adding speaker 60 282 /data/shehzeen/SSLTTS/SupDataDirs/NewSpecPreprocessing/Libri360NoAugConformer/speaker_embedding_3171_7574_3171_7574_000011_000002.pt\n",
      "adding speaker 61 776 /data/shehzeen/SSLTTS/SupDataDirs/NewSpecPreprocessing/Libri360NoAugConformer/speaker_embedding_7926_254948_7926_254948_000014_000003.pt\n",
      "adding speaker 62 709 /data/shehzeen/SSLTTS/SupDataDirs/NewSpecPreprocessing/Libri360NoAugConformer/speaker_embedding_7318_96151_7318_96151_000072_000000.pt\n",
      "adding speaker 63 735 /data/shehzeen/SSLTTS/SupDataDirs/NewSpecPreprocessing/Libri360NoAugConformer/speaker_embedding_7555_105394_7555_105394_000021_000001.pt\n",
      "adding speaker 64 695 /data/shehzeen/SSLTTS/SupDataDirs/NewSpecPreprocessing/Libri360NoAugConformer/speaker_embedding_7240_92200_7240_92200_000015_000000.pt\n",
      "adding speaker 65 670 /data/shehzeen/SSLTTS/SupDataDirs/NewSpecPreprocessing/Libri360NoAugConformer/speaker_embedding_7011_66622_7011_66622_000027_000007.pt\n",
      "adding speaker 66 460 /data/shehzeen/SSLTTS/SupDataDirs/NewSpecPreprocessing/Libri360NoAugConformer/speaker_embedding_5002_72876_5002_72876_000007_000006.pt\n",
      "adding speaker 67 654 /data/shehzeen/SSLTTS/SupDataDirs/NewSpecPreprocessing/Libri360NoAugConformer/speaker_embedding_6877_79973_6877_79973_000086_000000.pt\n",
      "adding speaker 68 374 /data/shehzeen/SSLTTS/SupDataDirs/NewSpecPreprocessing/Libri360NoAugConformer/speaker_embedding_4039_184264_4039_184264_000012_000001.pt\n",
      "adding speaker 69 777 /data/shehzeen/SSLTTS/SupDataDirs/NewSpecPreprocessing/Libri360NoAugConformer/speaker_embedding_7932_93470_7932_93470_000041_000002.pt\n",
      "adding speaker 70 191 /data/shehzeen/SSLTTS/SupDataDirs/NewSpecPreprocessing/Libri360NoAugConformer/speaker_embedding_2299_6524_2299_6524_000055_000003.pt\n",
      "adding speaker 71 201 /data/shehzeen/SSLTTS/SupDataDirs/NewSpecPreprocessing/Libri360NoAugConformer/speaker_embedding_2404_141242_2404_141242_000013_000001.pt\n",
      "adding speaker 72 65 /data/shehzeen/SSLTTS/SupDataDirs/NewSpecPreprocessing/Libri360NoAugConformer/speaker_embedding_1401_14358_1401_14358_000006_000001.pt\n",
      "adding speaker 73 97 /data/shehzeen/SSLTTS/SupDataDirs/NewSpecPreprocessing/Libri360NoAugConformer/speaker_embedding_1641_130505_1641_130505_000056_000000.pt\n",
      "adding speaker 74 280 /data/shehzeen/SSLTTS/SupDataDirs/NewSpecPreprocessing/Libri360NoAugConformer/speaker_embedding_3119_163527_3119_163527_000028_000001.pt\n",
      "adding speaker 75 448 /data/shehzeen/SSLTTS/SupDataDirs/NewSpecPreprocessing/Libri360NoAugConformer/speaker_embedding_4856_20410_4856_20410_000024_000000.pt\n",
      "adding speaker 76 325 /data/shehzeen/SSLTTS/SupDataDirs/NewSpecPreprocessing/Libri360NoAugConformer/speaker_embedding_3546_175390_3546_175390_000045_000001.pt\n",
      "adding speaker 77 93 /data/shehzeen/SSLTTS/SupDataDirs/NewSpecPreprocessing/Libri360NoAugConformer/speaker_embedding_1607_134636_1607_134636_000004_000014.pt\n",
      "adding speaker 78 203 /data/shehzeen/SSLTTS/SupDataDirs/NewSpecPreprocessing/Libri360NoAugConformer/speaker_embedding_242_126842_242_126842_000014_000000.pt\n",
      "adding speaker 79 639 /data/shehzeen/SSLTTS/SupDataDirs/NewSpecPreprocessing/Libri360NoAugConformer/speaker_embedding_666_11243_666_11243_000012_000001.pt\n",
      "adding speaker 80 18 /data/shehzeen/SSLTTS/SupDataDirs/NewSpecPreprocessing/Libri360NoAugConformer/speaker_embedding_1093_132891_1093_132891_000113_000000.pt\n",
      "adding speaker 81 393 /data/shehzeen/SSLTTS/SupDataDirs/NewSpecPreprocessing/Libri360NoAugConformer/speaker_embedding_4226_12707_4226_12707_000030_000000.pt\n",
      "adding speaker 82 74 /data/shehzeen/SSLTTS/SupDataDirs/NewSpecPreprocessing/Libri360NoAugConformer/speaker_embedding_1463_134465_1463_134465_000042_000000.pt\n",
      "adding speaker 83 725 /data/shehzeen/SSLTTS/SupDataDirs/NewSpecPreprocessing/Libri360NoAugConformer/speaker_embedding_7484_39971_7484_39971_000013_000012.pt\n",
      "adding speaker 84 608 /data/shehzeen/SSLTTS/SupDataDirs/NewSpecPreprocessing/Libri360NoAugConformer/speaker_embedding_6378_61780_6378_61780_000009_000001.pt\n",
      "adding speaker 85 645 /data/shehzeen/SSLTTS/SupDataDirs/NewSpecPreprocessing/Libri360NoAugConformer/speaker_embedding_6694_70837_6694_70837_000035_000000.pt\n",
      "adding speaker 86 317 /data/shehzeen/SSLTTS/SupDataDirs/NewSpecPreprocessing/Libri360NoAugConformer/speaker_embedding_3483_174132_3483_174132_000010_000003.pt\n",
      "adding speaker 87 145 /data/shehzeen/SSLTTS/SupDataDirs/NewSpecPreprocessing/Libri360NoAugConformer/speaker_embedding_2010_121416_2010_121416_000056_000000.pt\n",
      "adding speaker 88 342 /data/shehzeen/SSLTTS/SupDataDirs/NewSpecPreprocessing/Libri360NoAugConformer/speaker_embedding_3733_140718_3733_140718_000021_000000.pt\n",
      "adding speaker 89 59 /data/shehzeen/SSLTTS/SupDataDirs/NewSpecPreprocessing/Libri360NoAugConformer/speaker_embedding_1382_130492_1382_130492_000055_000000.pt\n",
      "adding speaker 90 236 /data/shehzeen/SSLTTS/SupDataDirs/NewSpecPreprocessing/Libri360NoAugConformer/speaker_embedding_272_130226_272_130226_000008_000004.pt\n",
      "adding speaker 91 361 /data/shehzeen/SSLTTS/SupDataDirs/NewSpecPreprocessing/Libri360NoAugConformer/speaker_embedding_3922_723_3922_723_000034_000000.pt\n",
      "adding speaker 92 133 /data/shehzeen/SSLTTS/SupDataDirs/NewSpecPreprocessing/Libri360NoAugConformer/speaker_embedding_1913_147989_1913_147989_000018_000001.pt\n",
      "adding speaker 93 214 /data/shehzeen/SSLTTS/SupDataDirs/NewSpecPreprocessing/Libri360NoAugConformer/speaker_embedding_2531_156724_2531_156724_000022_000002.pt\n",
      "adding speaker 94 341 /data/shehzeen/SSLTTS/SupDataDirs/NewSpecPreprocessing/Libri360NoAugConformer/speaker_embedding_373_130977_373_130977_000005_000001.pt\n",
      "adding speaker 95 259 /data/shehzeen/SSLTTS/SupDataDirs/NewSpecPreprocessing/Libri360NoAugConformer/speaker_embedding_2960_155152_2960_155152_000008_000000.pt\n",
      "adding speaker 96 623 /data/shehzeen/SSLTTS/SupDataDirs/NewSpecPreprocessing/Libri360NoAugConformer/speaker_embedding_6510_62516_6510_62516_000037_000000.pt\n",
      "adding speaker 97 525 /data/shehzeen/SSLTTS/SupDataDirs/NewSpecPreprocessing/Libri360NoAugConformer/speaker_embedding_5660_101883_5660_101883_000028_000002.pt\n",
      "adding speaker 98 149 /data/shehzeen/SSLTTS/SupDataDirs/NewSpecPreprocessing/Libri360NoAugConformer/speaker_embedding_204_287139_204_287139_000027_000000.pt\n",
      "adding speaker 99 442 /data/shehzeen/SSLTTS/SupDataDirs/NewSpecPreprocessing/Libri360NoAugConformer/speaker_embedding_4807_26853_4807_26853_000008_000000.pt\n",
      "adding speaker 100 16 /data/shehzeen/SSLTTS/SupDataDirs/NewSpecPreprocessing/Libri360NoAugConformer/speaker_embedding_1066_5330_1066_5330_000034_000000.pt\n",
      "adding speaker 101 613 /data/shehzeen/SSLTTS/SupDataDirs/NewSpecPreprocessing/Libri360NoAugConformer/speaker_embedding_6406_88089_6406_88089_000052_000000.pt\n",
      "adding speaker 102 841 /data/shehzeen/SSLTTS/SupDataDirs/NewSpecPreprocessing/Libri360NoAugConformer/speaker_embedding_8474_281187_8474_281187_000020_000001.pt\n",
      "adding speaker 103 428 /data/shehzeen/SSLTTS/SupDataDirs/NewSpecPreprocessing/Libri360NoAugConformer/speaker_embedding_4629_19366_4629_19366_000031_000004.pt\n",
      "adding speaker 104 539 /data/shehzeen/SSLTTS/SupDataDirs/NewSpecPreprocessing/Libri360NoAugConformer/speaker_embedding_580_126945_580_126945_000025_000002.pt\n",
      "adding speaker 105 880 /data/shehzeen/SSLTTS/SupDataDirs/NewSpecPreprocessing/Libri360NoAugConformer/speaker_embedding_8848_293963_8848_293963_000087_000000.pt\n",
      "adding speaker 106 364 /data/shehzeen/SSLTTS/SupDataDirs/NewSpecPreprocessing/Libri360NoAugConformer/speaker_embedding_3945_29110_3945_29110_000025_000002.pt\n",
      "adding speaker 107 642 /data/shehzeen/SSLTTS/SupDataDirs/NewSpecPreprocessing/Libri360NoAugConformer/speaker_embedding_6683_63839_6683_63839_000003_000000.pt\n",
      "adding speaker 108 224 /data/shehzeen/SSLTTS/SupDataDirs/NewSpecPreprocessing/Libri360NoAugConformer/speaker_embedding_2592_166433_2592_166433_000043_000000.pt\n",
      "adding speaker 109 575 /data/shehzeen/SSLTTS/SupDataDirs/NewSpecPreprocessing/Libri360NoAugConformer/speaker_embedding_6099_67860_6099_67860_000028_000000.pt\n",
      "adding speaker 110 863 /data/shehzeen/SSLTTS/SupDataDirs/NewSpecPreprocessing/Libri360NoAugConformer/speaker_embedding_8699_291107_8699_291107_000124_000000.pt\n",
      "adding speaker 111 8 /data/shehzeen/SSLTTS/SupDataDirs/NewSpecPreprocessing/Libri360NoAugConformer/speaker_embedding_1046_133225_1046_133225_000019_000000.pt\n",
      "adding speaker 112 550 /data/shehzeen/SSLTTS/SupDataDirs/NewSpecPreprocessing/Libri360NoAugConformer/speaker_embedding_5914_52088_5914_52088_000042_000001.pt\n",
      "adding speaker 113 633 /data/shehzeen/SSLTTS/SupDataDirs/NewSpecPreprocessing/Libri360NoAugConformer/speaker_embedding_6575_67584_6575_67584_000019_000000.pt\n",
      "adding speaker 114 685 /data/shehzeen/SSLTTS/SupDataDirs/NewSpecPreprocessing/Libri360NoAugConformer/speaker_embedding_7134_67233_7134_67233_000023_000005.pt\n",
      "adding speaker 115 745 /data/shehzeen/SSLTTS/SupDataDirs/NewSpecPreprocessing/Libri360NoAugConformer/speaker_embedding_7704_106965_7704_106965_000044_000001.pt\n",
      "adding speaker 116 661 /data/shehzeen/SSLTTS/SupDataDirs/NewSpecPreprocessing/Libri360NoAugConformer/speaker_embedding_6937_112761_6937_112761_000014_000001.pt\n",
      "adding speaker 117 859 /data/shehzeen/SSLTTS/SupDataDirs/NewSpecPreprocessing/Libri360NoAugConformer/speaker_embedding_8677_296078_8677_296078_000025_000003.pt\n",
      "adding speaker 118 612 /data/shehzeen/SSLTTS/SupDataDirs/NewSpecPreprocessing/Libri360NoAugConformer/speaker_embedding_64_76973_64_76973_000010_000001.pt\n",
      "adding speaker 119 721 /data/shehzeen/SSLTTS/SupDataDirs/NewSpecPreprocessing/Libri360NoAugConformer/speaker_embedding_7460_92002_7460_92002_000042_000001.pt\n",
      "adding speaker 120 844 /data/shehzeen/SSLTTS/SupDataDirs/NewSpecPreprocessing/Libri360NoAugConformer/speaker_embedding_8494_244443_8494_244443_000039_000002.pt\n",
      "adding speaker 121 580 /data/shehzeen/SSLTTS/SupDataDirs/NewSpecPreprocessing/Libri360NoAugConformer/speaker_embedding_6120_56179_6120_56179_000044_000000.pt\n",
      "adding speaker 122 790 /data/shehzeen/SSLTTS/SupDataDirs/NewSpecPreprocessing/Libri360NoAugConformer/speaker_embedding_7991_102381_7991_102381_000033_000000.pt\n",
      "adding speaker 123 714 /data/shehzeen/SSLTTS/SupDataDirs/NewSpecPreprocessing/Libri360NoAugConformer/speaker_embedding_7384_84010_7384_84010_000029_000000.pt\n",
      "adding speaker 124 241 /data/shehzeen/SSLTTS/SupDataDirs/NewSpecPreprocessing/Libri360NoAugConformer/speaker_embedding_2769_176263_2769_176263_000018_000001.pt\n",
      "adding speaker 125 531 /data/shehzeen/SSLTTS/SupDataDirs/NewSpecPreprocessing/Libri360NoAugConformer/speaker_embedding_5724_13364_5724_13364_000031_000000.pt\n",
      "adding speaker 126 724 /data/shehzeen/SSLTTS/SupDataDirs/NewSpecPreprocessing/Libri360NoAugConformer/speaker_embedding_7481_101276_7481_101276_000157_000000.pt\n",
      "adding speaker 127 57 /data/shehzeen/SSLTTS/SupDataDirs/NewSpecPreprocessing/Libri360NoAugConformer/speaker_embedding_1365_134830_1365_134830_000029_000001.pt\n",
      "adding speaker 128 512 /data/shehzeen/SSLTTS/SupDataDirs/NewSpecPreprocessing/Libri360NoAugConformer/speaker_embedding_5570_73848_5570_73848_000004_000005.pt\n",
      "adding speaker 129 716 /data/shehzeen/SSLTTS/SupDataDirs/NewSpecPreprocessing/Libri360NoAugConformer/speaker_embedding_7398_98878_7398_98878_000017_000003.pt\n",
      "adding speaker 130 205 /data/shehzeen/SSLTTS/SupDataDirs/NewSpecPreprocessing/Libri360NoAugConformer/speaker_embedding_246_122825_246_122825_000049_000002.pt\n",
      "adding speaker 131 833 /data/shehzeen/SSLTTS/SupDataDirs/NewSpecPreprocessing/Libri360NoAugConformer/speaker_embedding_8388_278289_8388_278289_000016_000004.pt\n",
      "adding speaker 132 366 /data/shehzeen/SSLTTS/SupDataDirs/NewSpecPreprocessing/Libri360NoAugConformer/speaker_embedding_3972_5791_3972_5791_000017_000001.pt\n",
      "adding speaker 133 690 /data/shehzeen/SSLTTS/SupDataDirs/NewSpecPreprocessing/Libri360NoAugConformer/speaker_embedding_7169_89735_7169_89735_000073_000001.pt\n",
      "adding speaker 134 164 /data/shehzeen/SSLTTS/SupDataDirs/NewSpecPreprocessing/Libri360NoAugConformer/speaker_embedding_2113_132485_2113_132485_000207_000009.pt\n",
      "adding speaker 135 265 /data/shehzeen/SSLTTS/SupDataDirs/NewSpecPreprocessing/Libri360NoAugConformer/speaker_embedding_3003_14274_3003_14274_000041_000004.pt\n",
      "adding speaker 136 129 /data/shehzeen/SSLTTS/SupDataDirs/NewSpecPreprocessing/Libri360NoAugConformer/speaker_embedding_1874_165702_1874_165702_000016_000000.pt\n",
      "adding speaker 137 564 /data/shehzeen/SSLTTS/SupDataDirs/NewSpecPreprocessing/Libri360NoAugConformer/speaker_embedding_6014_32886_6014_32886_000016_000000.pt\n",
      "adding speaker 138 252 /data/shehzeen/SSLTTS/SupDataDirs/NewSpecPreprocessing/Libri360NoAugConformer/speaker_embedding_2827_170440_2827_170440_000009_000001.pt\n",
      "adding speaker 139 472 /data/shehzeen/SSLTTS/SupDataDirs/NewSpecPreprocessing/Libri360NoAugConformer/speaker_embedding_511_131228_511_131228_000030_000000.pt\n",
      "adding speaker 140 787 /data/shehzeen/SSLTTS/SupDataDirs/NewSpecPreprocessing/Libri360NoAugConformer/speaker_embedding_7967_117095_7967_117095_000051_000004.pt\n",
      "adding speaker 141 150 /data/shehzeen/SSLTTS/SupDataDirs/NewSpecPreprocessing/Libri360NoAugConformer/speaker_embedding_2045_158081_2045_158081_000102_000001.pt\n",
      "adding speaker 142 474 /data/shehzeen/SSLTTS/SupDataDirs/NewSpecPreprocessing/Libri360NoAugConformer/speaker_embedding_512_124520_512_124520_000072_000000.pt\n",
      "adding speaker 143 801 /data/shehzeen/SSLTTS/SupDataDirs/NewSpecPreprocessing/Libri360NoAugConformer/speaker_embedding_8066_114256_8066_114256_000041_000000.pt\n",
      "adding speaker 144 652 /data/shehzeen/SSLTTS/SupDataDirs/NewSpecPreprocessing/Libri360NoAugConformer/speaker_embedding_6828_64738_6828_64738_000006_000007.pt\n",
      "adding speaker 145 866 /data/shehzeen/SSLTTS/SupDataDirs/NewSpecPreprocessing/Libri360NoAugConformer/speaker_embedding_8718_295197_8718_295197_000024_000002.pt\n",
      "adding speaker 146 697 /data/shehzeen/SSLTTS/SupDataDirs/NewSpecPreprocessing/Libri360NoAugConformer/speaker_embedding_7245_104888_7245_104888_000056_000000.pt\n",
      "adding speaker 147 132 /data/shehzeen/SSLTTS/SupDataDirs/NewSpecPreprocessing/Libri360NoAugConformer/speaker_embedding_1903_132499_1903_132499_000046_000004.pt\n",
      "adding speaker 148 636 /data/shehzeen/SSLTTS/SupDataDirs/NewSpecPreprocessing/Libri360NoAugConformer/speaker_embedding_6637_69607_6637_69607_000036_000000.pt\n",
      "adding speaker 149 687 /data/shehzeen/SSLTTS/SupDataDirs/NewSpecPreprocessing/Libri360NoAugConformer/speaker_embedding_7140_72212_7140_72212_000011_000000.pt\n",
      "adding speaker 150 115 /data/shehzeen/SSLTTS/SupDataDirs/NewSpecPreprocessing/Libri360NoAugConformer/speaker_embedding_1776_139035_1776_139035_000031_000005.pt\n",
      "adding speaker 151 190 /data/shehzeen/SSLTTS/SupDataDirs/NewSpecPreprocessing/Libri360NoAugConformer/speaker_embedding_2294_169656_2294_169656_000006_000000.pt\n",
      "adding speaker 152 262 /data/shehzeen/SSLTTS/SupDataDirs/NewSpecPreprocessing/Libri360NoAugConformer/speaker_embedding_2999_156967_2999_156967_000036_000005.pt\n",
      "adding speaker 153 363 /data/shehzeen/SSLTTS/SupDataDirs/NewSpecPreprocessing/Libri360NoAugConformer/speaker_embedding_3927_6557_3927_6557_000005_000006.pt\n",
      "adding speaker 154 316 /data/shehzeen/SSLTTS/SupDataDirs/NewSpecPreprocessing/Libri360NoAugConformer/speaker_embedding_3482_170453_3482_170453_000035_000000.pt\n",
      "adding speaker 155 592 /data/shehzeen/SSLTTS/SupDataDirs/NewSpecPreprocessing/Libri360NoAugConformer/speaker_embedding_6269_66185_6269_66185_000012_000000.pt\n",
      "adding speaker 156 785 /data/shehzeen/SSLTTS/SupDataDirs/NewSpecPreprocessing/Libri360NoAugConformer/speaker_embedding_7959_109185_7959_109185_000002_000000.pt\n",
      "adding speaker 157 153 /data/shehzeen/SSLTTS/SupDataDirs/NewSpecPreprocessing/Libri360NoAugConformer/speaker_embedding_2056_143893_2056_143893_000065_000000.pt\n",
      "adding speaker 158 123 /data/shehzeen/SSLTTS/SupDataDirs/NewSpecPreprocessing/Libri360NoAugConformer/speaker_embedding_1826_139361_1826_139361_000124_000000.pt\n",
      "adding speaker 159 593 /data/shehzeen/SSLTTS/SupDataDirs/NewSpecPreprocessing/Libri360NoAugConformer/speaker_embedding_6286_69422_6286_69422_000005_000000.pt\n",
      "adding speaker 160 0 /data/shehzeen/SSLTTS/SupDataDirs/NewSpecPreprocessing/Libri360NoAugConformer/speaker_embedding_100_121669_100_121669_000021_000000.pt\n",
      "adding speaker 161 619 /data/shehzeen/SSLTTS/SupDataDirs/NewSpecPreprocessing/Libri360NoAugConformer/speaker_embedding_6497_234106_6497_234106_000018_000000.pt\n",
      "adding speaker 162 744 /data/shehzeen/SSLTTS/SupDataDirs/NewSpecPreprocessing/Libri360NoAugConformer/speaker_embedding_770_43321_770_43321_000010_000007.pt\n",
      "adding speaker 163 577 /data/shehzeen/SSLTTS/SupDataDirs/NewSpecPreprocessing/Libri360NoAugConformer/speaker_embedding_6115_58778_6115_58778_000008_000001.pt\n",
      "adding speaker 164 664 /data/shehzeen/SSLTTS/SupDataDirs/NewSpecPreprocessing/Libri360NoAugConformer/speaker_embedding_698_122863_698_122863_000040_000000.pt\n",
      "adding speaker 165 465 /data/shehzeen/SSLTTS/SupDataDirs/NewSpecPreprocessing/Libri360NoAugConformer/speaker_embedding_5039_1189_5039_1189_000051_000001.pt\n",
      "adding speaker 166 466 /data/shehzeen/SSLTTS/SupDataDirs/NewSpecPreprocessing/Libri360NoAugConformer/speaker_embedding_5054_18527_5054_18527_000085_000001.pt\n",
      "adding speaker 167 449 /data/shehzeen/SSLTTS/SupDataDirs/NewSpecPreprocessing/Libri360NoAugConformer/speaker_embedding_4860_13185_4860_13185_000024_000000.pt\n",
      "adding speaker 168 739 /data/shehzeen/SSLTTS/SupDataDirs/NewSpecPreprocessing/Libri360NoAugConformer/speaker_embedding_764_132272_764_132272_000003_000004.pt\n",
      "adding speaker 169 46 /data/shehzeen/SSLTTS/SupDataDirs/NewSpecPreprocessing/Libri360NoAugConformer/speaker_embedding_1311_134170_1311_134170_000014_000000.pt\n",
      "mean speaker embeddings computed\n"
     ]
    },
    {
     "name": "stderr",
     "output_type": "stream",
     "text": [
      "\n"
     ]
    }
   ],
   "source": [
    "fp_dataset = data.FastPitchSSLDataset(\n",
    "    manifest_filepath=\"/data/shehzeen/SSLTTS/manifests/dev_clean_360_corrected.json\",\n",
    "    sample_rate=22050,\n",
    "    ssl_content_emb_type=\"embedding\",\n",
    "    pitch_conditioning=True,\n",
    "    pitch_normalization=\"speaker_wise\",\n",
    "    pitch_mean=212.358734130859,\n",
    "    pitch_std=68.5280609,\n",
    "    content_aug_types=[\"f_transform\", \"g_transform\"],\n",
    "    sup_data_dir=\"/data/shehzeen/SSLTTS/SupDataDirs/NewSpecPreprocessing/Libri360NoAugConformer\",\n",
    "    emb_similarity_threshold=0.95\n",
    ")"
   ]
  },
  {
   "cell_type": "code",
   "execution_count": 52,
   "id": "0efa4597",
   "metadata": {},
   "outputs": [],
   "source": [
    "item = fp_dataset.__getitem__(1)"
   ]
  },
  {
   "cell_type": "code",
   "execution_count": 53,
   "id": "f47da6f2",
   "metadata": {},
   "outputs": [
    {
     "data": {
      "text/plain": [
       "tensor([4., 4., 4., 4., 4., 4., 4., 4., 4., 4., 4., 4., 4., 4., 4., 4., 4., 4.,\n",
       "        4., 4., 4., 4., 4., 4., 4., 4., 4., 4., 4., 4., 4., 4., 4., 4., 4., 4.,\n",
       "        4., 4., 4., 8., 4., 4., 4., 4., 4., 4., 8., 4., 4., 4., 4., 4., 4., 4.,\n",
       "        4., 4., 4., 4., 4., 4., 4., 4., 4., 4., 4., 4., 4., 4., 8., 4., 4., 8.,\n",
       "        4., 4., 4., 4., 4., 4., 4., 4., 4., 4., 4., 4., 8., 4., 4., 4., 8., 4.,\n",
       "        4., 4., 4., 4., 4., 4., 4., 4., 4., 4., 4., 4., 4., 4., 4., 4., 4., 4.,\n",
       "        4., 4.])"
      ]
     },
     "execution_count": 53,
     "metadata": {},
     "output_type": "execute_result"
    }
   ],
   "source": [
    "item['duration']"
   ]
  },
  {
   "cell_type": "code",
   "execution_count": 61,
   "id": "35cb705b",
   "metadata": {},
   "outputs": [
    {
     "name": "stdout",
     "output_type": "stream",
     "text": [
      "0 tensor(0.9797) tensor(0.8776)\n",
      "1 tensor(0.8883) tensor(0.6038)\n",
      "2 tensor(0.9816) tensor(0.4567)\n",
      "3 tensor(0.8717) tensor(0.6483)\n",
      "4 tensor(0.9699) tensor(0.6003)\n",
      "5 tensor(0.8535) tensor(0.4932)\n",
      "6 tensor(0.5266) tensor(0.4856)\n",
      "7 tensor(0.7012) tensor(0.4533)\n",
      "8 tensor(0.8427) tensor(0.7361)\n",
      "9 tensor(0.9735) tensor(0.5940)\n",
      "10 tensor(0.8873) tensor(0.6421)\n",
      "11 tensor(0.9761) tensor(0.7446)\n",
      "12 tensor(0.8070) tensor(0.6551)\n",
      "13 tensor(0.6981) tensor(0.6753)\n",
      "14 tensor(0.8378) tensor(0.6808)\n",
      "15 tensor(0.9767) tensor(0.6984)\n",
      "16 tensor(0.8811) tensor(0.7990)\n",
      "17 tensor(0.9781) tensor(0.7512)\n",
      "18 tensor(0.9152) tensor(0.6059)\n",
      "19 tensor(0.9774) tensor(0.9806)\n",
      "20 tensor(0.8656) tensor(0.5694)\n",
      "21 tensor(0.8743) tensor(0.4573)\n",
      "22 tensor(0.9069) tensor(0.6671)\n",
      "23 tensor(0.9766) tensor(0.6181)\n",
      "24 tensor(0.9175) tensor(0.5296)\n",
      "25 tensor(0.9719) tensor(0.6380)\n",
      "26 tensor(0.4868) tensor(0.5906)\n",
      "27 tensor(0.6513) tensor(0.4867)\n",
      "28 tensor(0.7573) tensor(0.5660)\n",
      "29 tensor(0.6292) tensor(0.6352)\n",
      "30 tensor(0.9737) tensor(0.7253)\n",
      "31 tensor(0.5929) tensor(0.6514)\n",
      "32 tensor(0.7501) tensor(0.7152)\n",
      "33 tensor(0.9794) tensor(0.7502)\n",
      "34 tensor(0.8935) tensor(0.6024)\n",
      "35 tensor(0.9800) tensor(0.9801)\n",
      "36 tensor(0.8758) tensor(0.5930)\n",
      "37 tensor(0.9632) tensor(0.6139)\n",
      "38 tensor(0.8099) tensor(0.5555)\n",
      "39 tensor(0.8792) tensor(0.9815)\n",
      "40 tensor(0.8903) tensor(0.7848)\n",
      "41 tensor(0.9240) tensor(0.5219)\n",
      "42 tensor(0.9788) tensor(0.6103)\n",
      "43 tensor(0.9044) tensor(0.7498)\n",
      "44 tensor(0.9804) tensor(0.7517)\n",
      "45 tensor(0.9511) tensor(0.5091)\n",
      "46 tensor(0.8667) tensor(0.6299)\n",
      "47 tensor(0.7234) tensor(0.6916)\n",
      "48 tensor(0.8067) tensor(0.6222)\n",
      "49 tensor(0.9769) tensor(0.5065)\n"
     ]
    }
   ],
   "source": [
    "import torch\n",
    "for _t in range(50):\n",
    "    e1 = item['content_embedding'][:,_t]\n",
    "    e2 = item['content_embedding_g_transform'][:,_t]\n",
    "    e3 = item['content_embedding'][:,100 - _t]\n",
    "    print(_t, torch.cosine_similarity(e1, e2, dim=0), torch.cosine_similarity(e1, e3, dim=0))"
   ]
  },
  {
   "cell_type": "code",
   "execution_count": 57,
   "id": "e7bb0b46",
   "metadata": {},
   "outputs": [
    {
     "data": {
      "text/plain": [
       "torch.Size([256, 110])"
      ]
     },
     "execution_count": 57,
     "metadata": {},
     "output_type": "execute_result"
    }
   ],
   "source": [
    "item['content_embedding'].shape"
   ]
  },
  {
   "cell_type": "code",
   "execution_count": null,
   "id": "4d8f3144",
   "metadata": {},
   "outputs": [],
   "source": []
  }
 ],
 "metadata": {
  "kernelspec": {
   "display_name": "py38nemo",
   "language": "python",
   "name": "py38nemo"
  },
  "language_info": {
   "codemirror_mode": {
    "name": "ipython",
    "version": 3
   },
   "file_extension": ".py",
   "mimetype": "text/x-python",
   "name": "python",
   "nbconvert_exporter": "python",
   "pygments_lexer": "ipython3",
   "version": "3.8.0"
  }
 },
 "nbformat": 4,
 "nbformat_minor": 5
}
